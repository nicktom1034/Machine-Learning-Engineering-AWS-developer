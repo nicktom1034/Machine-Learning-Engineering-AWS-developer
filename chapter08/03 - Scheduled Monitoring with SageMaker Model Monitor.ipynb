{
 "cells": [
  {
   "cell_type": "code",
   "execution_count": null,
   "metadata": {},
   "outputs": [],
   "source": [
    "s3_bucket = \"<INSERT S3 BUCKET HERE>\"\n",
    "prefix = \"chapter08\""
   ]
  },
  {
   "cell_type": "code",
   "execution_count": null,
   "metadata": {},
   "outputs": [],
   "source": [
    "%store -r ll_package_arn"
   ]
  },
  {
   "cell_type": "code",
   "execution_count": null,
   "metadata": {},
   "outputs": [],
   "source": [
    "import sagemaker\n",
    "from sagemaker import get_execution_role\n",
    "from sagemaker import ModelPackage\n",
    "from sagemaker.predictor import Predictor\n",
    "\n",
    "\n",
    "session = sagemaker.Session()\n",
    "role = get_execution_role()\n",
    "\n",
    "model = ModelPackage(\n",
    "    role=role,\n",
    "    model_package_arn=ll_package_arn,\n",
    "    sagemaker_session=session\n",
    ")\n",
    "\n",
    "model.predictor_cls = Predictor"
   ]
  },
  {
   "cell_type": "code",
   "execution_count": null,
   "metadata": {},
   "outputs": [],
   "source": [
    "from sagemaker.model_monitor import DataCaptureConfig\n",
    "\n",
    "base = f\"s3://{s3_bucket}/{prefix}\"\n",
    "capture_upload_path = f\"{base}/data-capture\"\n",
    "\n",
    "data_capture_config = DataCaptureConfig(\n",
    "    enable_capture = True,\n",
    "    sampling_percentage=100,\n",
    "    destination_s3_uri=capture_upload_path,\n",
    "    kms_key_id=None,\n",
    "    capture_options=[\"REQUEST\", \"RESPONSE\"],\n",
    "    csv_content_types=[\"text/csv\"],\n",
    "    json_content_types=[\"application/json\"]\n",
    ")"
   ]
  },
  {
   "cell_type": "code",
   "execution_count": null,
   "metadata": {},
   "outputs": [],
   "source": [
    "from sagemaker.serializers import CSVSerializer\n",
    "from sagemaker.deserializers import CSVDeserializer\n",
    "\n",
    "predictor = model.deploy(\n",
    "    instance_type='ml.m5.xlarge', \n",
    "    initial_instance_count=1,\n",
    "    serializer=CSVSerializer(),\n",
    "    deserializer=CSVDeserializer(),\n",
    "    data_capture_config=data_capture_config\n",
    ")"
   ]
  },
  {
   "cell_type": "code",
   "execution_count": null,
   "metadata": {},
   "outputs": [],
   "source": [
    "payload = \"1.5,2\"\n",
    "\n",
    "predictor.predict(data=payload)"
   ]
  },
  {
   "cell_type": "code",
   "execution_count": null,
   "metadata": {},
   "outputs": [],
   "source": [
    "%%bash\n",
    "\n",
    "mkdir -p tmp\n",
    "wget -O tmp/baseline.csv https://bit.ly/3td5vjx"
   ]
  },
  {
   "cell_type": "code",
   "execution_count": null,
   "metadata": {},
   "outputs": [],
   "source": [
    "base = f's3://{s3_bucket}/{prefix}'\n",
    "baseline_source_uri = f'{base}/baseline.csv'\n",
    "baseline_output_uri = f\"{base}/baseline-output\""
   ]
  },
  {
   "cell_type": "code",
   "execution_count": null,
   "metadata": {},
   "outputs": [],
   "source": [
    "!aws s3 cp tmp/baseline.csv {baseline_source_uri}"
   ]
  },
  {
   "cell_type": "code",
   "execution_count": null,
   "metadata": {},
   "outputs": [],
   "source": [
    "from sagemaker.model_monitor import DefaultModelMonitor\n",
    "\n",
    "default_monitor = DefaultModelMonitor(\n",
    "    role=role,\n",
    "    instance_count=1,\n",
    "    instance_type='ml.m5.large',\n",
    "    volume_size_in_gb=20,\n",
    "    max_runtime_in_seconds=3600,\n",
    ")"
   ]
  },
  {
   "cell_type": "code",
   "execution_count": null,
   "metadata": {
    "scrolled": true
   },
   "outputs": [],
   "source": [
    "%%time\n",
    "\n",
    "from sagemaker.model_monitor import dataset_format\n",
    "\n",
    "dataset_format = dataset_format.DatasetFormat.csv(header=True)\n",
    "\n",
    "baseline_dict = {\n",
    "    'baseline_dataset': baseline_source_uri,\n",
    "    'dataset_format': dataset_format,\n",
    "    'output_s3_uri': baseline_output_uri,\n",
    "    'wait': True\n",
    "}\n",
    "\n",
    "default_monitor.suggest_baseline(\n",
    "    **baseline_dict\n",
    ")"
   ]
  },
  {
   "cell_type": "code",
   "execution_count": null,
   "metadata": {},
   "outputs": [],
   "source": [
    "baseline_job = default_monitor.latest_baselining_job\n",
    "stats = baseline_job.baseline_statistics()\n",
    "schema_dict = stats.body_dict[\"features\"]\n",
    "\n",
    "import pandas as pd\n",
    "schema_df = pd.json_normalize(schema_dict)\n",
    "schema_df.head()"
   ]
  },
  {
   "cell_type": "code",
   "execution_count": null,
   "metadata": {},
   "outputs": [],
   "source": [
    "constraints = baseline_job.suggested_constraints()\n",
    "constraints_dict = constraints.body_dict[\"features\"]\n",
    "constraints_df = pd.json_normalize(constraints_dict)\n",
    "constraints_df.head()"
   ]
  },
  {
   "cell_type": "code",
   "execution_count": null,
   "metadata": {},
   "outputs": [],
   "source": [
    "constraints.body_dict['features'][1]['inferred_type'] = 'Integral'\n",
    "constraints.body_dict['features'][2]['inferred_type'] = 'Integral'\n",
    "constraints.save()"
   ]
  },
  {
   "cell_type": "code",
   "execution_count": null,
   "metadata": {},
   "outputs": [],
   "source": [
    "from sagemaker.model_monitor import CronExpressionGenerator\n",
    "from time import gmtime, strftime\n",
    "\n",
    "import random\n",
    "from string import ascii_uppercase\n",
    "\n",
    "def generate_schedule_name():\n",
    "    chars = random.choices(ascii_uppercase, k=5)\n",
    "    output = 'schedule-' + ''.join(chars)\n",
    "    return output"
   ]
  },
  {
   "cell_type": "code",
   "execution_count": null,
   "metadata": {},
   "outputs": [],
   "source": [
    "schedule_name = generate_schedule_name()\n",
    "schedule_name"
   ]
  },
  {
   "cell_type": "code",
   "execution_count": null,
   "metadata": {},
   "outputs": [],
   "source": [
    "s3_report_path = f'{base}/report'\n",
    "baseline_statistics = default_monitor.baseline_statistics()\n",
    "constraints = default_monitor.suggested_constraints()"
   ]
  },
  {
   "cell_type": "code",
   "execution_count": null,
   "metadata": {},
   "outputs": [],
   "source": [
    "cron_expression = CronExpressionGenerator.hourly()\n",
    "cron_expression"
   ]
  },
  {
   "cell_type": "code",
   "execution_count": null,
   "metadata": {},
   "outputs": [],
   "source": [
    "try:\n",
    "    default_monitor.delete_monitoring_schedule()\n",
    "except:\n",
    "    pass"
   ]
  },
  {
   "cell_type": "code",
   "execution_count": null,
   "metadata": {},
   "outputs": [],
   "source": [
    "default_monitor.create_monitoring_schedule(\n",
    "    monitor_schedule_name=schedule_name,\n",
    "    endpoint_input=predictor.endpoint,\n",
    "    output_s3_uri=s3_report_path,\n",
    "    statistics=baseline_statistics,\n",
    "    constraints=constraints,\n",
    "    schedule_cron_expression=cron_expression,\n",
    "    enable_cloudwatch_metrics=True,\n",
    ")"
   ]
  },
  {
   "cell_type": "code",
   "execution_count": null,
   "metadata": {},
   "outputs": [],
   "source": [
    "default_monitor.describe_schedule()"
   ]
  },
  {
   "cell_type": "code",
   "execution_count": null,
   "metadata": {},
   "outputs": [],
   "source": [
    "from time import sleep\n",
    "sleep(300)"
   ]
  },
  {
   "cell_type": "code",
   "execution_count": null,
   "metadata": {},
   "outputs": [],
   "source": [
    "def generate_payload(x,y):\n",
    "    return f\"{x},{y}\""
   ]
  },
  {
   "cell_type": "code",
   "execution_count": null,
   "metadata": {},
   "outputs": [],
   "source": [
    "def perform_good_input():\n",
    "    print(\"> PERFORM REQUEST WITH GOOD INPUT\")\n",
    "    payload = generate_payload(1, 2)\n",
    "    predictor.predict(data=payload)"
   ]
  },
  {
   "cell_type": "code",
   "execution_count": null,
   "metadata": {},
   "outputs": [],
   "source": [
    "def perform_bad_input():\n",
    "    print(\"> PERFORM REQUEST WITH BAD INPUT\")\n",
    "    payload = generate_payload(1, 2.5)\n",
    "    predictor.predict(data=payload)"
   ]
  },
  {
   "cell_type": "code",
   "execution_count": null,
   "metadata": {},
   "outputs": [],
   "source": [
    "perform_good_input()\n",
    "perform_bad_input()"
   ]
  },
  {
   "cell_type": "code",
   "execution_count": null,
   "metadata": {},
   "outputs": [],
   "source": [
    "dm = default_monitor\n",
    "monitoring_violations = dm.latest_monitoring_constraint_violations()\n",
    "monitoring_statistics = dm.latest_monitoring_statistics()"
   ]
  },
  {
   "cell_type": "code",
   "execution_count": null,
   "metadata": {},
   "outputs": [],
   "source": [
    "%%time\n",
    "\n",
    "from time import sleep\n",
    "\n",
    "violations = monitoring_violations\n",
    "\n",
    "while not violations:\n",
    "    print(\"No executions yet. Sleeping for 5 minutes...\")\n",
    "    sleep(60 * 5)\n",
    "    \n",
    "    perform_good_input()\n",
    "    perform_bad_input()\n",
    "    \n",
    "    try:\n",
    "        v = dm.latest_monitoring_constraint_violations()\n",
    "        violations = v\n",
    "    except:\n",
    "        pass\n",
    "    \n",
    "print(\"Executions found!\")"
   ]
  },
  {
   "cell_type": "code",
   "execution_count": null,
   "metadata": {},
   "outputs": [],
   "source": [
    "violations = dm.latest_monitoring_constraint_violations()\n",
    "violations.__dict__"
   ]
  },
  {
   "cell_type": "code",
   "execution_count": null,
   "metadata": {},
   "outputs": [],
   "source": [
    "monitoring_statistics = dm.latest_monitoring_statistics()\n",
    "monitoring_statistics.__dict__"
   ]
  },
  {
   "cell_type": "code",
   "execution_count": null,
   "metadata": {},
   "outputs": [],
   "source": [
    "default_monitor.delete_monitoring_schedule()"
   ]
  },
  {
   "cell_type": "code",
   "execution_count": null,
   "metadata": {},
   "outputs": [],
   "source": [
    "predictor.delete_endpoint()"
   ]
  }
 ],
 "metadata": {
  "instance_type": "ml.t3.medium",
  "kernelspec": {
   "display_name": "Python 3 (Data Science)",
   "language": "python",
   "name": "python3__SAGEMAKER_INTERNAL__arn:aws:sagemaker:us-west-2:236514542706:image/datascience-1.0"
  },
  "language_info": {
   "codemirror_mode": {
    "name": "ipython",
    "version": 3
   },
   "file_extension": ".py",
   "mimetype": "text/x-python",
   "name": "python",
   "nbconvert_exporter": "python",
   "pygments_lexer": "ipython3",
   "version": "3.7.10"
  }
 },
 "nbformat": 4,
 "nbformat_minor": 4
}
